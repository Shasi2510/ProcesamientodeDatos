{
 "cells": [
  {
   "cell_type": "code",
   "execution_count": null,
   "metadata": {},
   "outputs": [],
   "source": [
    "import pandas as pd\n",
    "\n",
    "notas_de_estudiantes = { 'id': [1, 2, 3, 4, 5, 6, 7, 8, 9, 10, 11, 12, 13, 14, 15, 16, 17, 18, 19, 20],\n",
    "           'materia':  ['Matematicas', 'Historia', 'Ciencias', 'Lenguaje', 'Matematicas', 'Historia', 'Ciencias', 'Lenguaje', 'Matematicas', 'Historia', 'Ciencias', 'Lenguaje', 'Matematicas', 'Historia', 'Ciencias', 'Lenguaje', 'Matematicas', 'Historia', 'Ciencias', 'Lenguaje'],\n",
    "           'nota': [80, 65, 90, 75, 95, 70, 85, 60, 78, 82, 93, 68, 73, 88, 77, 50, 92, 63, 85, 79],\n",
    "           'aprobado': ['Si', 'No', 'Si', 'Si', 'Si', 'Si', 'Si', 'No', 'Si', 'Si', 'Si', 'Si', 'Si', 'Si', 'Si', 'No', 'Si', 'No', 'Si', 'Si']}\n",
    "\n",
    "df = pd.DataFrame(notas_de_estudiantes)"
   ]
  },
  {
   "cell_type": "code",
   "execution_count": null,
   "metadata": {},
   "outputs": [],
   "source": [
    "import plotly.graph_objects as go\n",
    "import numpy as np\n",
    "import pandas as pd\n",
    "\n",
    "notas_de_estudiantes = { 'id': [1, 2, 3, 4, 5, 6, 7, 8, 9, 10, 11, 12, 13, 14, 15, 16, 17, 18, 19, 20],\n",
    "           'materia':  ['Matematicas', 'Historia', 'Ciencias', 'Lenguaje', 'Matematicas', 'Historia', 'Ciencias', 'Lenguaje', 'Matematicas', 'Historia', 'Ciencias', 'Lenguaje', 'Matematicas', 'Historia', 'Ciencias', 'Lenguaje', 'Matematicas', 'Historia', 'Ciencias', 'Lenguaje'],\n",
    "           'nota': [80, 65, 90, 75, 95, 70, 85, 60, 78, 82, 93, 68, 73, 88, 77, 50, 92, 63, 85, 79],\n",
    "           'aprobado': ['Si', 'No', 'Si', 'Si', 'Si', 'Si', 'Si', 'No', 'Si', 'Si', 'Si', 'Si', 'Si', 'Si', 'Si', 'No', 'Si', 'No', 'Si', 'Si']}\n",
    "\n",
    "df = pd.DataFrame(notas_de_estudiantes)\n",
    "\n",
    "np.random.seed(0)  # Establecer semilla para reproducibilidad\n",
    "x = df['nota']\n",
    "\n",
    "fig = go.Figure()  # Crear una figura vacía\n",
    "\n",
    "# Añadir el trazado de cajas a la figura\n",
    "fig.add_trace(go.Box(\n",
    "    y=x,  # Datos para el gráfico de cajas\n",
    "    name= \"Materias\",\n",
    "    boxpoints='all',  # Mostrar todos los puntos\n",
    "    jitter=0.3,  # Controlar la dispersión horizontal de los puntos\n",
    "    whiskerwidth=0.2,  # Controlar el ancho de las cajas\n",
    "    fillcolor='lightgray'  # Color de relleno de las cajas\n",
    "))\n",
    "\n",
    "# Personalizar el diseño del gráfico\n",
    "fig.update_layout(\n",
    "    title='Gráfico de Cajas',  # Título del gráfico\n",
    "    yaxis_title='Valores'  # Etiqueta del eje y\n",
    ")\n",
    "\n",
    "# Mostrar el gráfico\n",
    "fig.show()"
   ]
  },
  {
   "cell_type": "code",
   "execution_count": null,
   "metadata": {},
   "outputs": [],
   "source": [
    "import plotly.graph_objects as go\n",
    "import numpy as np\n",
    "\n",
    "\n",
    "labels = ['Aprobados', 'No Aprobados']  # Etiquetas de las categorías\n",
    "values = [80, 20]  # Valores correspondientes a cada categoría\n",
    "\n",
    "\n",
    "fig = go.Figure()  # Crear una figura vacía\n",
    "\n",
    "# Añadir el trazado de torta a la figura\n",
    "fig.add_trace(go.Pie(\n",
    "    labels=labels, values=values,  # Etiquetas y valores\n",
    "    hole=0.4  # Tamaño del hueco en el centro del gráfico de torta\n",
    "))\n",
    "\n",
    "# Personalizar el diseño del gráfico\n",
    "fig.update_layout(\n",
    "    title='Gráfico de Torta'  # Título del gráfico\n",
    ")\n",
    "\n",
    "# Mostrar el gráfico\n",
    "fig.show()\n"
   ]
  }
 ],
 "metadata": {
  "kernelspec": {
   "display_name": "base",
   "language": "python",
   "name": "python3"
  },
  "language_info": {
   "name": "python",
   "version": "3.10.9"
  },
  "orig_nbformat": 4
 },
 "nbformat": 4,
 "nbformat_minor": 2
}

{
 "cells": [
  {
   "cell_type": "code",
   "execution_count": null,
   "metadata": {},
   "outputs": [],
   "source": [
    "from datasets import load_dataset\n",
    "import pandas as pd\n",
    "\n",
    "dataset = load_dataset(\"notas de estudiantes\")\n",
    "\n",
    "df = pd.DataFrame(dataset)"
   ]
  },
  {
   "cell_type": "code",
   "execution_count": null,
   "metadata": {},
   "outputs": [],
   "source": [
    "import plotly.graph_objects as go\n",
    "import numpy as np\n",
    "\n",
    "np.random.seed(0)  # Establecer semilla para reproducibilidad\n",
    "x = np.random.randn(100)  # Datos aleatorios para el gráfico de cajas\n",
    "\n",
    "fig = go.Figure()  # Crear una figura vacía\n",
    "\n",
    "# Añadir el trazado de cajas a la figura\n",
    "fig.add_trace(go.Box(\n",
    "    y=x,  # Datos para el gráfico de cajas\n",
    "    name='df',  # Etiqueta del gráfico de cajas\n",
    "    boxpoints='all',  # Mostrar todos los puntos\n",
    "    jitter=0.3,  # Controlar la dispersión horizontal de los puntos\n",
    "    whiskerwidth=0.2,  # Controlar el ancho de las cajas\n",
    "    fillcolor='lightgray'  # Color de relleno de las cajas\n",
    "))\n",
    "\n",
    "# Personalizar el diseño del gráfico\n",
    "fig.update_layout(\n",
    "    title='Gráfico de Cajas',  # Título del gráfico\n",
    "    yaxis_title='Valores'  # Etiqueta del eje y\n",
    ")\n",
    "\n",
    "# Mostrar el gráfico\n",
    "fig.show()\n",
    "\n",
    "\n"
   ]
  },
  {
   "cell_type": "code",
   "execution_count": null,
   "metadata": {},
   "outputs": [],
   "source": [
    "labels = ['Aprobados', 'No Aprobados']  # Etiquetas de las categorías\n",
    "values = ['df']  # Valores correspondientes a cada categoría\n",
    "\n",
    "\n",
    "fig = go.Figure()  # Crear una figura vacía\n",
    "\n",
    "# Añadir el trazado de torta a la figura\n",
    "fig.add_trace(go.Pie(\n",
    "    labels=labels, values=values,  # Etiquetas y valores\n",
    "    hole=0.4  # Tamaño del hueco en el centro del gráfico de torta\n",
    "))\n",
    "\n",
    "# Personalizar el diseño del gráfico\n",
    "fig.update_layout(\n",
    "    title='Gráfico de Torta'  # Título del gráfico\n",
    ")\n",
    "\n",
    "# Mostrar el gráfico\n",
    "fig.show()\n"
   ]
  }
 ],
 "metadata": {
  "language_info": {
   "name": "python"
  },
  "orig_nbformat": 4
 },
 "nbformat": 4,
 "nbformat_minor": 2
}

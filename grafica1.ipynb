{
 "cells": [
  {
   "cell_type": "code",
   "execution_count": null,
   "metadata": {},
   "outputs": [],
   "source": [
    "import numpy as np\n",
    "\n",
    "rng = np.random.default_rng(42)\n",
    "\n",
    "# Datos de calificaciones de los estudiantes\n",
    "matematicas = rng.integers(50, 100, 20)\n",
    "ciencias = rng.integers(40, 95, 20)\n",
    "literatura = rng.integers(60, 100, 20)\n",
    "\n",
    "# Datos de errores para el gráfico de barras de error\n",
    "errores_matematicas = rng.uniform(2, 5, 2)\n",
    "errores_matematicas = [min(errores_matematicas), max(errores_matematicas)]\n",
    "\n",
    "errores_ciencias = rng.uniform(1, 4, 2)\n",
    "errores_ciencias = [min(errores_ciencias), max(errores_ciencias)]\n",
    "\n",
    "errores_literatura = rng.uniform(3, 6, 2)\n",
    "errores_literatura = [min(errores_literatura), max(errores_literatura)]\n"
   ]
  },
  {
   "cell_type": "code",
   "execution_count": null,
   "metadata": {},
   "outputs": [],
   "source": [
    "#Grafico de Dispersion\n",
    "import matplotlib.pyplot as plt\n",
    "\n",
    "calificaiones_matematicas = [50, 100, 20]\n",
    "calificaciones_ciencias = [40, 95, 20]\n",
    "\n",
    "plt.scatter('calificaciones_matematicas', 'calificaciones_ciencias', color='blue')\n",
    "plt.title('Relacion entre Calificaciones de Matematicas y Ciencias')\n",
    "plt.xlabel('Calificaciones de Matematicas')\n",
    "plt.ylabel('Calificaciones de Ciencias')\n",
    "\n",
    "plt.show()"
   ]
  },
  {
   "cell_type": "code",
   "execution_count": null,
   "metadata": {},
   "outputs": [],
   "source": [
    "#Barra de Error\n",
    "import matplotlib.pyplot as plt\n",
    "\n",
    "nombre_materias = ['Matematicas', 'Ciencias', 'Literatura']\n",
    "promedio_calificaciones = [matematicas, ciencias, literatura]\n",
    "errores_materia = [errores_matematicas, errores_ciencias, errores_literatura]\n",
    "\n",
    "plt.errorbar('nombre_materias', 'promedio_calificaciones', yerr='errores_materias?, fmt='o', capsize=5)\n",
    "plt.title('Promedio de Calificaciones')\n",
    "plt.xlabel('Materias')\n",
    "plt.ylabel('Calificaciones Promedio')\n",
    "\n",
    "plt.show()"
   ]
  },
  {
   "cell_type": "code",
   "execution_count": null,
   "metadata": {},
   "outputs": [],
   "source": [
    "#Histograma\n",
    "\n",
    "import matplotlib.pyplot as plt\n",
    "\n",
    "matematicas = [50, 100, 20]\n",
    "\n",
    "plt.hist(matematicas, bins=5, edgecolor='black')\n",
    "plt.title('Distribución de Calificaciones de Matematicas')\n",
    "plt.xlabel('Calificaciones de Matematicas')\n",
    "plt.ylabel('Frecuencia')\n",
    "\n",
    "plt.show()\n"
   ]
  }
 ],
 "metadata": {
  "language_info": {
   "name": "python"
  },
  "orig_nbformat": 4
 },
 "nbformat": 4,
 "nbformat_minor": 2
}

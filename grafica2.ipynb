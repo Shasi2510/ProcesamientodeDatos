{
 "cells": [
  {
   "cell_type": "code",
   "execution_count": null,
   "metadata": {},
   "outputs": [],
   "source": [
    "import pandas as pd\n",
    "\n",
    "notas_de_estudiantes = { 'id': [1, 2, 3, 4, 5, 6, 7, 8, 9, 10, 11, 12, 13, 14, 15, 16, 17, 18, 19, 20],\n",
    "           'materia':  ['Matematicas', 'Historia', 'Ciencias', 'Lenguaje', 'Matematicas', 'Historia', 'Ciencias', 'Lenguaje', 'Matematicas', 'Historia', 'Ciencias', 'Lenguaje', 'Matematicas', 'Historia', 'Ciencias', 'Lenguaje', 'Matematicas', 'Historia', 'Ciencias', 'Lenguaje'],\n",
    "           'nota': [80, 65, 90, 75, 95, 70, 85, 60, 78, 82, 93, 68, 73, 88, 77, 50, 92, 63, 85, 79],\n",
    "           'aprobado': ['Si', 'No', 'Si', 'Si', 'Si', 'Si', 'Si', 'No', 'Si', 'Si', 'Si', 'Si', 'Si', 'Si', 'Si', 'No', 'Si', 'No', 'Si', 'Si']}\n",
    "\n",
    "df = pd.DataFrame(notas_de_estudiantes)"
   ]
  },
  {
   "cell_type": "code",
   "execution_count": null,
   "metadata": {},
   "outputs": [],
   "source": [
    "#Boxplot\n",
    "\n",
    "import pandas as pd\n",
    "import matplotlib.pyplot as plt\n",
    "\n",
    "# Datos\n",
    "distribuicion_notas = (80, 65, 90, 75, 95, 70, 85, 60, 78, 82, 93, 68, 73, 88, 77, 50, 92, 63, 85, 79)\n",
    "\n",
    "# Crear el boxplot\n",
    "plt.boxplot(distribuicion_notas)\n",
    "\n",
    "# Estilizar el boxplot\n",
    "plt.title(\"Distribución de Notas de Estudiantes\")\n",
    "plt.xlabel(\"Materias\")\n",
    "plt.ylabel(\"Nota\")\n",
    "\n",
    "# Mostrar el boxplot\n",
    "plt.show()\n"
   ]
  },
  {
   "cell_type": "code",
   "execution_count": null,
   "metadata": {},
   "outputs": [],
   "source": [
    "import matplotlib.pyplot as plt\n",
    "\n",
    "categorias = ['Aprobados', 'No Aprobados']\n",
    "valores = [80, 20]\n",
    "\n",
    "colors = ['lightblue', 'lightcoral']\n",
    "\n",
    "plt.pie(valores, labels=categorias, colors=colors)\n",
    "\n",
    "# Crear leyenda\n",
    "plt.legend(title=\"Distribuición de Aprobados\", loc=\"center left\", bbox_to_anchor=(0.9, 0.5),)\n",
    "\n",
    "plt.axis('equal')\n",
    "\n",
    "plt.show()"
   ]
  }
 ],
 "metadata": {
  "language_info": {
   "name": "python"
  },
  "orig_nbformat": 4
 },
 "nbformat": 4,
 "nbformat_minor": 2
}

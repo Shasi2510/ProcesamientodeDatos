{
 "cells": [
  {
   "cell_type": "code",
   "execution_count": null,
   "metadata": {},
   "outputs": [],
   "source": [
    "from datasets import load_dataset\n",
    "import pandas as pd\n",
    "\n",
    "dataset = load_dataset(\"notas de estudiantes\")\n",
    "\n",
    "df = pd.DataFrame(dataset)"
   ]
  },
  {
   "cell_type": "code",
   "execution_count": null,
   "metadata": {},
   "outputs": [],
   "source": [
    "#Boxplot\n",
    "\n",
    "import matplotlib.pyplot as plt\n",
    "\n",
    "# Datos\n",
    "distribucion_notas = [df]\n",
    "\n",
    "# Crear el boxplot\n",
    "plt.boxplot(distribuicion_notas)\n",
    "\n",
    "# Estilizar el boxplot\n",
    "plt.title(\"Distribución de Notas de Estudiantes\")\n",
    "plt.xlabel(\"Materias\")\n",
    "plt.ylabel(\"Nota\")\n",
    "\n",
    "# Mostrar el boxplot\n",
    "plt.show()\n"
   ]
  },
  {
   "cell_type": "code",
   "execution_count": null,
   "metadata": {},
   "outputs": [],
   "source": [
    "import matplotlib.pyplot as plt\n",
    "\n",
    "categorias = ['Aprobados', 'No Aprobados']\n",
    "valores = ['df']\n",
    "\n",
    "colors = ['lightblue', 'lightpurple']\n",
    "\n",
    "plt.pie(valores, labels=categorias, colors=colors)\n",
    "\n",
    "# Crear leyenda\n",
    "plt.legend(title=\"Distribuición de Aprobados\", loc=\"center right\", bbox_to_anchor=(0.9, 0.5))\n",
    "\n",
    "plt.axis('equal')\n",
    "\n",
    "plt.show()\n"
   ]
  }
 ],
 "metadata": {
  "language_info": {
   "name": "python"
  },
  "orig_nbformat": 4
 },
 "nbformat": 4,
 "nbformat_minor": 2
}
